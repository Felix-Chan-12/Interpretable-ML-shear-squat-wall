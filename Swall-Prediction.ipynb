{
 "cells": [
  {
   "cell_type": "code",
   "execution_count": 2,
   "id": "ideal-command",
   "metadata": {},
   "outputs": [],
   "source": [
    "# Prediction of the shear strength of RC squat walls\n",
    "# v 1.0\n",
    "# 2020.05\n",
    "\n",
    "import pandas as pd\n",
    "import numpy as np\n",
    "import matplotlib.pyplot as plt\n",
    "from sklearn import tree\n",
    "from sklearn.tree import DecisionTreeRegressor\n",
    "from sklearn.neural_network import MLPRegressor\n",
    "from sklearn.ensemble import RandomForestRegressor\n",
    "from sklearn.ensemble import GradientBoostingRegressor   \n",
    "import xgboost as xgb\n",
    "from sklearn.preprocessing import StandardScaler\n",
    "from sklearn.model_selection import train_test_split\n",
    "from sklearn.model_selection import cross_val_score\n",
    "from sklearn.metrics import r2_score\n",
    "from sklearn.metrics import mean_squared_error\n",
    "from sklearn.metrics import mean_absolute_error\n"
   ]
  },
  {
   "cell_type": "code",
   "execution_count": 3,
   "id": "aquatic-sound",
   "metadata": {},
   "outputs": [],
   "source": [
    "# define an additional metric \n",
    "def MAPE(true, pred):\n",
    "    diff = np.abs(np.array(true) - np.array(pred))\n",
    "    return np.mean(diff / abs(true))"
   ]
  },
  {
   "cell_type": "code",
   "execution_count": 4,
   "id": "civic-italic",
   "metadata": {},
   "outputs": [],
   "source": [
    "# load the shear strength database\n",
    "dataset = np.loadtxt('Swall-xgb.csv', delimiter=\",\")"
   ]
  },
  {
   "cell_type": "code",
   "execution_count": 5,
   "id": "about-turkish",
   "metadata": {},
   "outputs": [],
   "source": [
    "# randomly shuffle the original database if necessary\n",
    "# np.random.shuffle(dataset)\n",
    "# np.savetxt('Swall-xgb1.csv', dataset, delimiter=\",\")"
   ]
  },
  {
   "cell_type": "code",
   "execution_count": 5,
   "id": "curious-franklin",
   "metadata": {},
   "outputs": [],
   "source": [
    "# normalize the input data\n",
    "X = dataset[0:, 0:13]\n",
    "y = dataset[0:, 13]\n",
    "\n",
    "scaler = StandardScaler()\n",
    "scaler.fit(X)\n",
    "X = scaler.transform(X)"
   ]
  },
  {
   "cell_type": "code",
   "execution_count": 6,
   "id": "residential-victorian",
   "metadata": {},
   "outputs": [],
   "source": [
    "# split the database into training and testing\n",
    "X_train, X_test, y_train, y_test = train_test_split(X, y, test_size=0.3, random_state=0)"
   ]
  },
  {
   "cell_type": "code",
   "execution_count": 7,
   "id": "parental-berry",
   "metadata": {},
   "outputs": [],
   "source": [
    "# define ML models\n",
    "regr_0 = xgb.XGBRegressor(max_depth=4, learning_rate=0.3, n_estimators=100, min_child_weight=7, subsample=0.8, colsample_bytree=0.7, reg_lambda=0.4)\n",
    "regr_1 = tree.DecisionTreeRegressor(min_samples_split=2, min_samples_leaf=2, max_leaf_nodes=50, max_depth=50)\n",
    "regr_2 = RandomForestRegressor(n_estimators=40, max_features='sqrt', max_depth=9, min_samples_split=3, min_samples_leaf=1, oob_score = True, random_state = 0)\n",
    "regr_3 = GradientBoostingRegressor(learning_rate=0.05, n_estimators=150, min_samples_split=4, min_samples_leaf=5, max_depth=3)\n",
    "regr_4 = MLPRegressor(solver='lbfgs', hidden_layer_sizes=(5, ), random_state=0)\n",
    "\n",
    "regr = regr_0"
   ]
  },
  {
   "cell_type": "code",
   "execution_count": 8,
   "id": "classified-panel",
   "metadata": {},
   "outputs": [
    {
     "name": "stdout",
     "output_type": "stream",
     "text": [
      "0.9542089412396001\n"
     ]
    }
   ],
   "source": [
    "# 10-fold cv results for hyper-parameter validation\n",
    "scores = cross_val_score(regr, X_train, y_train, cv=10, scoring='r2', n_jobs = -1)\n",
    "print(scores.mean())"
   ]
  },
  {
   "cell_type": "code",
   "execution_count": 9,
   "id": "incredible-pittsburgh",
   "metadata": {},
   "outputs": [
    {
     "name": "stdout",
     "output_type": "stream",
     "text": [
      "Training R2: 0.9987579985037685 RMSE: 22.16786917529881 MAE: 15.222233300589885 MAPE: 8.045270708869397 %\n",
      "Testing R2: 0.9793969727581162 RMSE: 97.16248444541473 MAE: 56.71968655814833 MAPE: 16.977893803273165 %\n"
     ]
    }
   ],
   "source": [
    "# testing the model\n",
    "regr.fit(X_train, y_train) \n",
    "Z_1 = regr.predict(X_train)\n",
    "Z_2 = regr.predict(X_test)\n",
    "\n",
    "print(\"Training R2:\", r2_score(y_train, Z_1), \"RMSE:\", np.sqrt(mean_squared_error(y_train, Z_1)), \"MAE:\", mean_absolute_error(y_train, Z_1), \"MAPE:\", MAPE(y_train, Z_1)*100,\"%\")\n",
    "print(\"Testing R2:\", r2_score(y_test, Z_2), \"RMSE:\", np.sqrt(mean_squared_error(y_test, Z_2)), \"MAE:\", mean_absolute_error(y_test, Z_2), \"MAPE:\", MAPE(y_test,Z_2)*100,\"%\")\n"
   ]
  },
  {
   "cell_type": "code",
   "execution_count": 10,
   "id": "coastal-semester",
   "metadata": {},
   "outputs": [],
   "source": [
    "y_ture = np.concatenate((y_train, y_test))\n",
    "y_pre = np.concatenate((Z_1, Z_2))\n",
    "\n",
    "xx = np.zeros(shape=(434,2))\n",
    "\n",
    "xx[:,0]=y_ture\n",
    "xx[:,1]=y_pre\n",
    "\n",
    "np.savetxt('XGB.csv', xx, delimiter = ',') \n"
   ]
  },
  {
   "cell_type": "code",
   "execution_count": 11,
   "id": "third-treatment",
   "metadata": {},
   "outputs": [
    {
     "data": {
      "image/png": "[encoded data removed]",
      "text/plain": [
       "<Figure size 432x288 with 1 Axes>"
      ]
     },
     "metadata": {
      "needs_background": "light"
     },
     "output_type": "display_data"
    }
   ],
   "source": [
    "# plot the shear strength prediction results\n",
    "xx = np.linspace(0, 3000, 100)\n",
    "yy = xx\n",
    "\n",
    "plt.figure()\n",
    "plt.plot(xx, yy, linewidth=2)\n",
    "plt.scatter(y_train, Z_1, marker='o')\n",
    "plt.scatter(y_test, Z_2, marker='s')\n",
    "\n",
    "plt.tick_params (axis='both',which='major',labelsize=18)\n",
    "plt.yticks(fontproperties = 'Times New Roman', size = 18)\n",
    "plt.xticks(fontproperties = 'Times New Roman', size = 18)\n",
    "\n",
    "font1 = {'family' : 'Times New Roman', 'weight' : 'normal', 'size' : 20,}\n",
    "plt.axis('tight')\n",
    "plt.xlabel('Tested shear strength (kN)', font1)\n",
    "plt.ylabel('Predicted shear strength (kN)', font1)\n",
    "plt.xlim([-200, 3200])\n",
    "plt.ylim([-200, 3200])\n",
    "\n",
    "plt.legend(['y = x','Training set','Testing set'], loc = 'upper left', prop={'family' : 'Times New Roman', 'weight' : 'normal', 'size' : 14,})\n",
    "\n",
    "plt.savefig('Prediction_xgb.pdf', dpi=600, bbox_inches = 'tight', format='pdf')\n",
    "plt.show()"
   ]
  }
 ],
 "metadata": {
  "kernelspec": {
   "display_name": "py39",
   "language": "python",
   "name": "python3"
  },
  "language_info": {
   "codemirror_mode": {
    "name": "ipython",
    "version": 3
   },
   "file_extension": ".py",
   "mimetype": "text/x-python",
   "name": "python",
   "nbconvert_exporter": "python",
   "pygments_lexer": "ipython3",
   "version": "3.9.12"
  },
  "vscode": {
   "interpreter": {
    "hash": "8db80720148370dbb797ab13d288e7cffab15daad368d59845f5e0b2415b9d85"
   }
  }
 },
 "nbformat": 4,
 "nbformat_minor": 5
}
